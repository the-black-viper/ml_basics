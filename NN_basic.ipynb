{
  "nbformat": 4,
  "nbformat_minor": 0,
  "metadata": {
    "colab": {
      "name": "Git Mod NN_basic.ipynb",
      "provenance": [],
      "collapsed_sections": [
        "ia4Xjrbkjy0X",
        "67tmHqQvkJiv",
        "StQNNmrHag3a"
      ],
      "toc_visible": true,
      "authorship_tag": "ABX9TyMUYLox1T/R2/HUIwPlhZCF",
      "include_colab_link": true
    },
    "kernelspec": {
      "name": "python3",
      "display_name": "Python 3"
    }
  },
  "cells": [
    {
      "cell_type": "markdown",
      "metadata": {
        "id": "view-in-github",
        "colab_type": "text"
      },
      "source": [
        "<a href=\"https://colab.research.google.com/github/the-black-viper/ml_basics/blob/main/NN_basic.ipynb\" target=\"_parent\"><img src=\"https://colab.research.google.com/assets/colab-badge.svg\" alt=\"Open In Colab\"/></a>"
      ]
    },
    {
      "cell_type": "markdown",
      "metadata": {
        "id": "mSfjLLgEOdPv"
      },
      "source": [
        "# Goal\n",
        "\n",
        "Create a simple 3-layer neural network using purely python and numpy to predict the probabilities of normaly distributed values within $(-2\\sigma, + 2\\sigma)$ using the following architecture:\n",
        "\n",
        "- 1 unit - Input Layer\n",
        "- 64 units - Hidden Layer 1 + Relu Activation function\n",
        "- 64 units - Hidden Layer 2 + Relu Activation function\n",
        "- 1 unit - Output Layer\n",
        "\n",
        "\n"
      ]
    },
    {
      "cell_type": "code",
      "metadata": {
        "id": "B0mfo5QpV8GV"
      },
      "source": [
        "import numpy as np\n",
        "import matplotlib.pyplot as plt\n",
        "from math import floor"
      ],
      "execution_count": null,
      "outputs": []
    },
    {
      "cell_type": "markdown",
      "metadata": {
        "id": "ia4Xjrbkjy0X"
      },
      "source": [
        "# Define Helper functions"
      ]
    },
    {
      "cell_type": "code",
      "metadata": {
        "id": "AUvisBVuP0gx"
      },
      "source": [
        "def transform(x, mu, sigma):\n",
        "  x_prime = (x - mu)/sigma\n",
        "  return x_prime"
      ],
      "execution_count": null,
      "outputs": []
    },
    {
      "cell_type": "code",
      "metadata": {
        "id": "3LXeh9vSYPqa"
      },
      "source": [
        "def flatten_stack(arr):\n",
        "  '''\n",
        "  Flattens a 2D array and reshapes it into a single column vector\n",
        "  \n",
        "  Parameters:\n",
        "  arr(numpy.array) - array to flatten\n",
        "\n",
        "  Returns:\n",
        "  reshaped_arr(numpy.array) - Single column vector of the input array\n",
        "  '''\n",
        "  flattened_arr = arr.flatten()\n",
        "  # arr_new = np.array([[x] for x in flattened_arr])\n",
        "  reshaped_arr = flattened_arr.reshape((flattened_arr.shape[0],1))\n",
        "  return reshaped_arr"
      ],
      "execution_count": null,
      "outputs": []
    },
    {
      "cell_type": "code",
      "metadata": {
        "id": "thadjS9a0bNk"
      },
      "source": [
        "def scale(X):\n",
        "  '''\n",
        "  Normalizes X values for easier processing\n",
        "  \n",
        "  Parameters:\n",
        "  X(numpy.array) - Raw input data to be normalized\n",
        "\n",
        "  Returns:\n",
        "  scaled_x(numpy.array) - Normalized input values\n",
        "  mean_x(float) - mean of raw input data\n",
        "  std_x(float) - standard deviation of raw input data\n",
        "  '''\n",
        "  mean_x = np.mean(X, axis=0)\n",
        "  new = X - mean_x\n",
        "  std_x = np.std(X, axis=0)\n",
        "  scaled_x = new / std_x \n",
        "  return scaled_x, mean_x, std_x"
      ],
      "execution_count": null,
      "outputs": []
    },
    {
      "cell_type": "code",
      "metadata": {
        "id": "RnHHf6yORN3-"
      },
      "source": [
        "def filter(input, output, n=10):\n",
        "  '''\n",
        "  Randomly selects n samples from the first row with a matching\n",
        "  key from the second column.\n",
        "\n",
        "  Parameters:\n",
        "  input(numpy.array) - Input matrix to select samples\n",
        "  output(int/float) - Value to match in the second column\n",
        "  n(int, default = 10) - Number of samples to select\n",
        "\n",
        "  Returns:\n",
        "  new_x(numpy.array) - Row vector with size (n,)\n",
        "  '''\n",
        "  # Select all rows with the second column matching the output\n",
        "  rows_with_output = input[(input[:, 1] == output)]\n",
        "  # Get only the first column (X values)\n",
        "  input_vals = rows_with_output[:,0]\n",
        "  # Randomly pick 10 samples\n",
        "  generator = np.random.default_rng(42)\n",
        "  new_x = generator.choice(input_vals, n)\n",
        "  return new_x"
      ],
      "execution_count": null,
      "outputs": []
    },
    {
      "cell_type": "code",
      "metadata": {
        "id": "AmGCLpsRNsVn"
      },
      "source": [
        "def random_range(lb, ub, n):\n",
        "  '''Function to generate 'n' uniform random numbers in the interval (lb, ub]\n",
        "  Parameters:\n",
        "  lb - lower bound\n",
        "  ub - upper bound\n",
        "  n - number of random numbers to generate\n",
        "\n",
        "  Returns:\n",
        "  random_nums(numpy.array) - array of random numbers\n",
        "  '''\n",
        "  generator = np.random.default_rng(42)\n",
        "  random_nums = generator.uniform(lb, ub, n)\n",
        "  return random_nums"
      ],
      "execution_count": null,
      "outputs": []
    },
    {
      "cell_type": "code",
      "metadata": {
        "id": "WkRKqnE0R71J"
      },
      "source": [
        "def isclose(a, b, abs_tol=0.00005):\n",
        "  return (abs(a-b) <= abs_tol)"
      ],
      "execution_count": null,
      "outputs": []
    },
    {
      "cell_type": "markdown",
      "metadata": {
        "id": "s0SwnXTfTgIC"
      },
      "source": [
        "# Activation Functions\n",
        "\n",
        "Define activation functions ReLu & Sigmoid and their respective derivatives."
      ]
    },
    {
      "cell_type": "code",
      "metadata": {
        "id": "5gi0oZ1bV8u1"
      },
      "source": [
        "'''\n",
        "Parameters:\n",
        "z - Weighted input matrix\n",
        "\n",
        "Returns:\n",
        "a (float) - 'Activated' values\n",
        "'''\n",
        "\n",
        "def relu(z):\n",
        "  a = z * (z > 0)\n",
        "  return a\n",
        "\n",
        "def relu_prime(z):\n",
        "  z[z < 0] = 0\n",
        "  z[z > 0] = 1\n",
        "  return z\n",
        "\n",
        "def sigmoid(z):\n",
        "  a = 1.0 / (1 + np.exp(-z))\n",
        "  return a\n",
        "\n",
        "def sigmoid_prime(z):\n",
        "  a = sigmoid(z) * (1.0-sigmoid(z))\n",
        "  return a "
      ],
      "execution_count": null,
      "outputs": []
    },
    {
      "cell_type": "markdown",
      "metadata": {
        "id": "67tmHqQvkJiv"
      },
      "source": [
        "# Cost Function\n",
        "Define the MSE cost function "
      ]
    },
    {
      "cell_type": "code",
      "metadata": {
        "id": "5VeiG_g6lyNc"
      },
      "source": [
        "def mse(yHat, y):\n",
        "  ''' Returns the mean-squared-error of the predicted\n",
        "  and target values\n",
        "  Parameters:\n",
        "  yHat(np.array) - predicted values\n",
        "  y(np.array) - ground truth\n",
        "\n",
        "  Returns:\n",
        "  c - mean-squared-error\n",
        "  '''\n",
        "  c = np.sum((yHat - y)**2) / y.size\n",
        "  return c"
      ],
      "execution_count": null,
      "outputs": []
    },
    {
      "cell_type": "markdown",
      "metadata": {
        "id": "StQNNmrHag3a"
      },
      "source": [
        "# Creating the Dataset\n",
        "Target dataset is composed of random variables $(x)$ and their respective probability as the output $(y)$\n",
        "\n",
        "A histogram plot is first generated to 'discretize' a normal random distribution. Eventually, inputs $(x)$ will be derived from the bin centers and the probabilities $(y)$ are calculated from the respective frequencies."
      ]
    },
    {
      "cell_type": "code",
      "metadata": {
        "id": "BDBZ_u_6Hg8g",
        "colab": {
          "base_uri": "https://localhost:8080/",
          "height": 282
        },
        "outputId": "ede4d7be-373f-474f-9911-d02b23cc0b66"
      },
      "source": [
        "np.random.seed(42)\n",
        "# Define mean and std\n",
        "mu, sigma = 100, 15\n",
        "num_bins = 100\n",
        "raw_sample_size = 15000\n",
        "raws = np.random.normal(mu, sigma, raw_sample_size).round(4)\n",
        "hist, bin_edges = np.histogram(raws, bins=num_bins)\n",
        "# Half bin width\n",
        "bin_half_val = np.diff(bin_edges)/2\n",
        "# Get the bin centers\n",
        "bin_centers = bin_edges[:-1] + np.diff(bin_edges)/2\n",
        "# Plot the 'discretized' distribution\n",
        "plt.scatter(bin_centers, hist)"
      ],
      "execution_count": null,
      "outputs": [
        {
          "output_type": "execute_result",
          "data": {
            "text/plain": [
              "<matplotlib.collections.PathCollection at 0x7fb8c15aa518>"
            ]
          },
          "metadata": {
            "tags": []
          },
          "execution_count": 68
        },
        {
          "output_type": "display_data",
          "data": {
            "image/png": "[encoded data removed]",
            "text/plain": [
              "<Figure size 432x288 with 1 Axes>"
            ]
          },
          "metadata": {
            "tags": [],
            "needs_background": "light"
          }
        }
      ]
    },
    {
      "cell_type": "markdown",
      "metadata": {
        "id": "vg-7-b0zu8vV"
      },
      "source": [
        "## Select values in the range $(-2\\sigma, +2\\sigma)$"
      ]
    },
    {
      "cell_type": "code",
      "metadata": {
        "id": "5zgeoM2uu4vJ",
        "colab": {
          "base_uri": "https://localhost:8080/",
          "height": 283
        },
        "outputId": "b4c2da59-90fe-40c3-c8f2-a6be1aeba47f"
      },
      "source": [
        "# Define bounds\n",
        "lb = mu - 2*sigma\n",
        "ub = mu + 2*sigma\n",
        "# Select bin_centers inside the range [lb, ub]\n",
        "bins = bin_centers[(bin_centers >= lb) & (bin_centers < ub)]\n",
        "bin_idx = [np.where(bin_centers == bin) for bin in bins]\n",
        "\n",
        "# Flatten index\n",
        "bin_idx = np.array(bin_idx).flatten()\n",
        "# Get frequency values for respective bin centers\n",
        "hist_in_range = hist[bin_idx]\n",
        "\n",
        "# Plot\n",
        "plt.scatter(bins, hist_in_range)"
      ],
      "execution_count": null,
      "outputs": [
        {
          "output_type": "execute_result",
          "data": {
            "text/plain": [
              "<matplotlib.collections.PathCollection at 0x7fb8c1509a58>"
            ]
          },
          "metadata": {
            "tags": []
          },
          "execution_count": 69
        },
        {
          "output_type": "display_data",
          "data": {
            "image/png": "[encoded data removed]",
            "text/plain": [
              "<Figure size 432x288 with 1 Axes>"
            ]
          },
          "metadata": {
            "tags": [],
            "needs_background": "light"
          }
        }
      ]
    },
    {
      "cell_type": "markdown",
      "metadata": {
        "id": "Y-wI4hiscbvF"
      },
      "source": [
        "## Generate dataset from the 'discretized' distribution.\n",
        "\n",
        "To generate the dataset, random numbers are generated for each bin interval. The respective probabilities are calculated and the two sets of data are combined into a single matrix."
      ]
    },
    {
      "cell_type": "code",
      "metadata": {
        "id": "KhyodR0O3H3P"
      },
      "source": [
        "# Define number of samples for each bin\n",
        "num_data = 1\n",
        "\n",
        "# For each bin generate 10 random numbers in the interval.\n",
        "x_raw = np.array([random_range(x-bin_half_val[0], x+bin_half_val[0], num_data).reshape((num_data, 1)) for x in bins])\n",
        "x_raw = x_raw.reshape(len(bins),1,num_data)\n",
        "\n",
        "# Generate the probabilities.\n",
        "y_raw = np.array([np.full((num_data,1), round(f/raw_sample_size, 4)) for f in hist_in_range])\n",
        "\n",
        "# Flatten the arrays\n",
        "y_f = flatten_stack(y_raw)\n",
        "x_f = flatten_stack(x_raw)\n",
        "\n",
        "# Apply scaling and transformation\n",
        "x_scaled,x_mean, x_std = scale(x_f)\n",
        "scale1 = (x_f[0][0] -np.mean(x_f))/np.std(x_f)\n",
        "\n",
        "# Finally, combine the inputs and outputs into a single 2D Matrix.\n",
        "data_raw = np.hstack((x_scaled, y_f))"
      ],
      "execution_count": null,
      "outputs": []
    },
    {
      "cell_type": "markdown",
      "metadata": {
        "id": "AKelfJnyjP8A"
      },
      "source": [
        "## Split Dataset\n",
        "The dataset is shuffled to introduce randomness prior splitting."
      ]
    },
    {
      "cell_type": "code",
      "metadata": {
        "id": "CL4cT7120nZq"
      },
      "source": [
        "def train_test_split(dataset, train_ratio, N, data_per_sample):\n",
        "  '''\n",
        "  Splits a 2D dataset into training and test sets\n",
        "  Parameters:\n",
        "  dataset(numpy.array) - 2D numpy array to split\n",
        "  train_ratio(np.float) - float value of the training percentage\n",
        "  N(int) - total number of samples\n",
        "  data_per_sample - number of data sets \n",
        "  '''\n",
        "  # Apply shuffling a second time\n",
        "  np.random.shuffle(dataset)\n",
        "\n",
        "  # Define training data ratio\n",
        "  train_index = int(train_ratio*N)\n",
        "\n",
        "  # Round train_index\n",
        "  train_index = data_per_sample * floor(train_index/data_per_sample)\n",
        "  # Get training and test sets\n",
        "  training_set, test_set = dataset[0:train_index], dataset[train_index:]\n",
        "  return training_set, test_set"
      ],
      "execution_count": null,
      "outputs": []
    },
    {
      "cell_type": "code",
      "metadata": {
        "id": "2rCCz8GDJDOU"
      },
      "source": [
        "# Split dataset to training and test sets\n",
        "np.random.shuffle(data_raw)\n",
        "train_set, test_set = train_test_split(data_raw, 0.8, data_raw.shape[0], num_data)\n",
        "np.random.shuffle(train_set)\n",
        "np.random.shuffle(test_set)\n",
        "# Training Set\n",
        "x_training = train_set[:,0].reshape(-1,1)\n",
        "y_training = train_set[:,1].reshape(-1,1)\n",
        "# Test Set\n",
        "x_testing = test_set[:,0].reshape(-1,1)\n",
        "y_testing = test_set[:,1].reshape(-1,1)"
      ],
      "execution_count": null,
      "outputs": []
    },
    {
      "cell_type": "markdown",
      "metadata": {
        "id": "JCASnKp7SrOA"
      },
      "source": [
        "# Define Neural Network"
      ]
    },
    {
      "cell_type": "markdown",
      "metadata": {
        "id": "seK3t1jg4ZZC"
      },
      "source": [
        "The neural network class will have 7 main methods to implement a simple NN.\n",
        "\n",
        "\n",
        "```\n",
        "forward_propagate\n",
        "backward_propagate\n",
        "compute_cost\n",
        "compute_derivatives\n",
        "update_parameters\n",
        "fit\n",
        "predict\n",
        "```\n",
        "\n"
      ]
    },
    {
      "cell_type": "markdown",
      "metadata": {
        "id": "s2c0cy1F5buF"
      },
      "source": [
        "Initially the parameters will have initial values. \n",
        "Weights and biases are initialized with values from the standard normal distribution\n"
      ]
    },
    {
      "cell_type": "code",
      "metadata": {
        "id": "scRteFP7VvvP"
      },
      "source": [
        "class NeuralNetwork:\n",
        "  def __init__(self, architecture):\n",
        "    '''\n",
        "    Parameters:\n",
        "\n",
        "    architecture - array containing the number of neurons per layer.\n",
        "    '''\n",
        "\n",
        "    # Initialize the network architecture\n",
        "    self.L = architecture.size - 1 # L defines the last layer of the network.\n",
        "    self.n = architecture\n",
        "\n",
        "    # Create a dictionary to store the weights and biases\n",
        "    self.parameters = {}\n",
        "    \n",
        "    # Initialize network parameters\n",
        "    for i in range (1, self.L + 1): \n",
        "        # Initialize weights from the standard normal distribution\n",
        "        self.parameters[f'W{i}'] = np.random.randn(self.n[i], self.n[i - 1])\n",
        "        # Initialize rest of the parameters to 1\n",
        "        self.parameters[f'b{i}'] = np.ones((self.n[i], 1))\n",
        "        self.parameters[f'z{i}'] = np.ones((self.n[i], 1))\n",
        "        self.parameters[f'a{i}'] = np.ones((self.n[i], 1))\n",
        "    \n",
        "    # Initialize the first activated values a[0]\n",
        "    self.parameters['a0'] = np.ones((self.n[i], 1))\n",
        "    \n",
        "    # Initialize the cost:\n",
        "    self.parameters['C'] = 0\n",
        "    \n",
        "    # Create a dictionary for storing the derivatives:\n",
        "    self.derivatives = {}\n",
        "\n",
        "  def forward_propagate(self, X):\n",
        "    # Note that X here, is just one training example\n",
        "    self.parameters['a0'] = X\n",
        "    \n",
        "    # Calculate the activations for every hidden layer    \n",
        "    for l in range(1, self.L + 1):\n",
        "      self.parameters[f'z{l}'] = np.dot(self.parameters[f'W{l}'], self.parameters[f'a{l - 1}']) + self.parameters[f'b{l}']\n",
        "      if l == self.L:\n",
        "        self.parameters[f'a{l}'] = sigmoid(self.parameters[f'z{l}'])\n",
        "      else:\n",
        "        self.parameters[f'a{l}'] = relu(self.parameters[f'z{l}'])\n",
        "      \n",
        "  def compute_cost(self, y):\n",
        "    self.parameters['C'] = 0.5*(self.parameters[f'a{self.L}'] - y)**2\n",
        "  def compute_derivatives(self, y):\n",
        "    # Partial derivatives of the cost function with respect to z[L], W[L] and b[L]:        \n",
        "    # dzL\n",
        "    self.derivatives[f'dz{self.L}'] = (self.parameters[f'a{self.L}'] - y) * sigmoid_prime(self.parameters[f'z{self.L}'])\n",
        "    # dWL\n",
        "    self.derivatives[f'dW{self.L}'] = np.dot(self.derivatives[f'dz{self.L}'], np.transpose(self.parameters[f'a{self.L - 1}']))\n",
        "    # dbL\n",
        "    self.derivatives[f'db{self.L}'] = self.derivatives[f'dz{self.L}']\n",
        "\n",
        "    # Implementing the above in a loop:\n",
        "    for l in range(self.L-1, 0, -1):\n",
        "      self.derivatives[f'dz{l}'] = np.dot(np.transpose(self.parameters[f'W{l + 1}']), self.derivatives[f'dz{l + 1}'])*relu_prime(self.parameters[f'z{l}'])\n",
        "      self.derivatives[f'dW{l}'] = np.dot(self.derivatives[f'dz{l}'], np.transpose(self.parameters[f'a{l - 1}']))\n",
        "      self.derivatives[f'db{l}'] = self.derivatives[f'dz{l}']\n",
        "\n",
        "  def update_parameters(self, alpha):\n",
        "    for l in range(1, self.L+1):\n",
        "      self.parameters[f'W{l}'] -= alpha*self.derivatives[f'dW{l}']\n",
        "      self.parameters[f'b{l}'] -= alpha*self.derivatives[f'db{l}']\n",
        "    \n",
        "  def predict(self, x):\n",
        "    self.forward_propagate(x)\n",
        "    return self.parameters[f'a{self.L}']\n",
        "      \n",
        "  def fit(self, X, Y, num_iter, alpha = 0.1):\n",
        "    for iter in range(0, num_iter):\n",
        "      c = 0 # Stores the cost\n",
        "      n_c = 0 # Stores the number of correct predictions\n",
        "\n",
        "      for i in range(0, X.shape[0]):\n",
        "        x = X[i].reshape((X[i].size, 1))\n",
        "        y = Y[i]\n",
        "\n",
        "        self.forward_propagate(x)\n",
        "        self.compute_cost(y)\n",
        "        self.compute_derivatives(y)\n",
        "        self.update_parameters(alpha)\n",
        "        c += self.parameters['C'] \n",
        "        y_pred = self.predict(x).round(4)\n",
        "        y_flat = y_pred.flatten()\n",
        "        if y_flat[0] == y:\n",
        "            n_c += 1\n",
        "      \n",
        "      c = c/X.shape[0]\n",
        "      if (iter % 1 == 0):\n",
        "        print(f\"Iteration: {iter} Cost: {c} Accuracy: {(c/X.shape[0])*100}\")"
      ],
      "execution_count": null,
      "outputs": []
    },
    {
      "cell_type": "markdown",
      "metadata": {
        "id": "oA1VGfEVJ6-U"
      },
      "source": [
        "## Train model"
      ]
    },
    {
      "cell_type": "code",
      "metadata": {
        "id": "1b93ulgVJ2gD",
        "colab": {
          "base_uri": "https://localhost:8080/"
        },
        "outputId": "d7944cd3-1d18-4936-949a-66b6ba889ddc"
      },
      "source": [
        "# Defining the model architecture\n",
        "architecture = np.array([1, 64, 64, 1])\n",
        "\n",
        "# Creating the classifier\n",
        "classifier = NeuralNetwork(architecture)\n",
        "\n",
        "# #Training the classifier\n",
        "classifier.fit(x_training, y_training, 20, alpha=0.1)"
      ],
      "execution_count": null,
      "outputs": [
        {
          "output_type": "stream",
          "text": [
            "4\n",
            "Iteration: 0 Cost: [[0.00193444]] Accuracy: [[0.00483609]]\n",
            "Iteration: 1 Cost: [[0.00025961]] Accuracy: [[0.00064902]]\n",
            "Iteration: 2 Cost: [[0.00025961]] Accuracy: [[0.00064902]]\n",
            "Iteration: 3 Cost: [[0.00025961]] Accuracy: [[0.00064902]]\n",
            "Iteration: 4 Cost: [[0.00025961]] Accuracy: [[0.00064902]]\n",
            "Iteration: 5 Cost: [[0.00025961]] Accuracy: [[0.00064902]]\n",
            "Iteration: 6 Cost: [[0.00025961]] Accuracy: [[0.00064902]]\n",
            "Iteration: 7 Cost: [[0.00025961]] Accuracy: [[0.00064902]]\n",
            "Iteration: 8 Cost: [[0.00025961]] Accuracy: [[0.00064902]]\n",
            "Iteration: 9 Cost: [[0.00025961]] Accuracy: [[0.00064902]]\n",
            "Iteration: 10 Cost: [[0.00025961]] Accuracy: [[0.00064902]]\n",
            "Iteration: 11 Cost: [[0.00025961]] Accuracy: [[0.00064902]]\n",
            "Iteration: 12 Cost: [[0.00025961]] Accuracy: [[0.00064902]]\n",
            "Iteration: 13 Cost: [[0.00025961]] Accuracy: [[0.00064902]]\n",
            "Iteration: 14 Cost: [[0.00025961]] Accuracy: [[0.00064902]]\n",
            "Iteration: 15 Cost: [[0.00025961]] Accuracy: [[0.00064902]]\n",
            "Iteration: 16 Cost: [[0.00025961]] Accuracy: [[0.00064902]]\n",
            "Iteration: 17 Cost: [[0.00025961]] Accuracy: [[0.00064902]]\n",
            "Iteration: 18 Cost: [[0.00025961]] Accuracy: [[0.00064902]]\n",
            "Iteration: 19 Cost: [[0.00025961]] Accuracy: [[0.00064902]]\n"
          ],
          "name": "stdout"
        }
      ]
    },
    {
      "cell_type": "markdown",
      "metadata": {
        "id": "ATpK849jWDn9"
      },
      "source": [
        "## Testing"
      ]
    },
    {
      "cell_type": "code",
      "metadata": {
        "id": "qs8c_qG2WBva",
        "colab": {
          "base_uri": "https://localhost:8080/"
        },
        "outputId": "4d5e7faf-7ad3-4487-bb8d-434f936980d1"
      },
      "source": [
        "#Predicting the test set results:\n",
        "n_c = 0\n",
        "for i in range(0, x_testing.shape[0]):\n",
        "  x = x_testing[i].reshape((x_testing[i].size, 1))\n",
        "  y = y_testing[i]\n",
        "  # print(y)\n",
        "  y_pred = classifier.predict(x)\n",
        "  # y_pred = (y_pred > 0.5)\n",
        "  y_flat = y_pred.flatten()\n",
        "  if y_flat[0] == y:\n",
        "    # print(y)\n",
        "    n_c += 1\n",
        "print(\"Test Accuracy\", (n_c/x_testing.shape[0])*100)"
      ],
      "execution_count": null,
      "outputs": [
        {
          "output_type": "stream",
          "text": [
            "Test Accuracy 0.0\n"
          ],
          "name": "stdout"
        }
      ]
    }
  ]
}